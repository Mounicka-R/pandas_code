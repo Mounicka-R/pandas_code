{
 "cells": [
  {
   "cell_type": "code",
   "execution_count": 3,
   "metadata": {},
   "outputs": [
    {
     "name": "stdout",
     "output_type": "stream",
     "text": [
      "12.1.0.2.0\n"
     ]
    }
   ],
   "source": [
    "import cx_Oracle\n",
    "import pandas as pd\n",
    "con=cx_Oracle.connect('feb22_mounicka/feb22_mounicka@orcl-aws.c8sefhobaih4.ap-south-1.rds.amazonaws.com:1521/ORCL')\n",
    "cur=con.cursor()\n",
    "print(con.version)"
   ]
  },
  {
   "cell_type": "markdown",
   "metadata": {},
   "source": [
    "## customer table"
   ]
  },
  {
   "cell_type": "code",
   "execution_count": 4,
   "metadata": {},
   "outputs": [
    {
     "data": {
      "text/html": [
       "<div>\n",
       "<style scoped>\n",
       "    .dataframe tbody tr th:only-of-type {\n",
       "        vertical-align: middle;\n",
       "    }\n",
       "\n",
       "    .dataframe tbody tr th {\n",
       "        vertical-align: top;\n",
       "    }\n",
       "\n",
       "    .dataframe thead th {\n",
       "        text-align: right;\n",
       "    }\n",
       "</style>\n",
       "<table border=\"1\" class=\"dataframe\">\n",
       "  <thead>\n",
       "    <tr style=\"text-align: right;\">\n",
       "      <th></th>\n",
       "      <th>CUST_ID</th>\n",
       "      <th>CUST_NAME</th>\n",
       "      <th>CUST_ADDRESS</th>\n",
       "      <th>CUST_CITY</th>\n",
       "      <th>PHONE_NO</th>\n",
       "      <th>CUST_EMAIL</th>\n",
       "    </tr>\n",
       "  </thead>\n",
       "  <tbody>\n",
       "    <tr>\n",
       "      <th>0</th>\n",
       "      <td>1101</td>\n",
       "      <td>abc</td>\n",
       "      <td>ring road</td>\n",
       "      <td>bangalore</td>\n",
       "      <td>9656892.0</td>\n",
       "      <td>abc@gmail.com</td>\n",
       "    </tr>\n",
       "    <tr>\n",
       "      <th>1</th>\n",
       "      <td>1102</td>\n",
       "      <td>xyz</td>\n",
       "      <td>south end</td>\n",
       "      <td>mysore</td>\n",
       "      <td>9656892.0</td>\n",
       "      <td>xyz@yahoo.co.in</td>\n",
       "    </tr>\n",
       "    <tr>\n",
       "      <th>2</th>\n",
       "      <td>1103</td>\n",
       "      <td>pqr</td>\n",
       "      <td>ashoka pillar</td>\n",
       "      <td>hassan</td>\n",
       "      <td>9656892.0</td>\n",
       "      <td>pqr@gmail.com</td>\n",
       "    </tr>\n",
       "    <tr>\n",
       "      <th>3</th>\n",
       "      <td>1104</td>\n",
       "      <td>lmn</td>\n",
       "      <td>nandanavana</td>\n",
       "      <td>tumkur</td>\n",
       "      <td>9656892.0</td>\n",
       "      <td>lmn@gmail.com</td>\n",
       "    </tr>\n",
       "    <tr>\n",
       "      <th>4</th>\n",
       "      <td>1105</td>\n",
       "      <td>mno</td>\n",
       "      <td>tnagar</td>\n",
       "      <td>hubli</td>\n",
       "      <td>9656892.0</td>\n",
       "      <td>mno@yahoo.co.in</td>\n",
       "    </tr>\n",
       "    <tr>\n",
       "      <th>5</th>\n",
       "      <td>1106</td>\n",
       "      <td>tim</td>\n",
       "      <td>rrnagar</td>\n",
       "      <td>bangalore</td>\n",
       "      <td>9632192.0</td>\n",
       "      <td>tim123@gmail.com</td>\n",
       "    </tr>\n",
       "    <tr>\n",
       "      <th>6</th>\n",
       "      <td>1107</td>\n",
       "      <td>sam</td>\n",
       "      <td>jpnagar</td>\n",
       "      <td>chennai</td>\n",
       "      <td>NaN</td>\n",
       "      <td>None</td>\n",
       "    </tr>\n",
       "  </tbody>\n",
       "</table>\n",
       "</div>"
      ],
      "text/plain": [
       "   CUST_ID CUST_NAME   CUST_ADDRESS  CUST_CITY   PHONE_NO        CUST_EMAIL\n",
       "0     1101       abc      ring road  bangalore  9656892.0     abc@gmail.com\n",
       "1     1102       xyz      south end     mysore  9656892.0   xyz@yahoo.co.in\n",
       "2     1103       pqr  ashoka pillar     hassan  9656892.0     pqr@gmail.com\n",
       "3     1104       lmn    nandanavana     tumkur  9656892.0     lmn@gmail.com\n",
       "4     1105       mno         tnagar      hubli  9656892.0   mno@yahoo.co.in\n",
       "5     1106       tim        rrnagar  bangalore  9632192.0  tim123@gmail.com\n",
       "6     1107       sam        jpnagar    chennai        NaN              None"
      ]
     },
     "execution_count": 4,
     "metadata": {},
     "output_type": "execute_result"
    }
   ],
   "source": [
    "cust=pd.read_sql('select *from cust', con=con)\n",
    "cust"
   ]
  },
  {
   "cell_type": "code",
   "execution_count": 9,
   "metadata": {},
   "outputs": [
    {
     "data": {
      "text/html": [
       "<div>\n",
       "<style scoped>\n",
       "    .dataframe tbody tr th:only-of-type {\n",
       "        vertical-align: middle;\n",
       "    }\n",
       "\n",
       "    .dataframe tbody tr th {\n",
       "        vertical-align: top;\n",
       "    }\n",
       "\n",
       "    .dataframe thead th {\n",
       "        text-align: right;\n",
       "    }\n",
       "</style>\n",
       "<table border=\"1\" class=\"dataframe\">\n",
       "  <thead>\n",
       "    <tr style=\"text-align: right;\">\n",
       "      <th></th>\n",
       "      <th>CUST_ID</th>\n",
       "      <th>CUST_NAME</th>\n",
       "      <th>CUST_ADDRESS</th>\n",
       "      <th>CUST_CITY</th>\n",
       "      <th>PHONE_NO</th>\n",
       "      <th>CUST_EMAIL</th>\n",
       "    </tr>\n",
       "  </thead>\n",
       "  <tbody>\n",
       "    <tr>\n",
       "      <th>6</th>\n",
       "      <td>1107</td>\n",
       "      <td>sam</td>\n",
       "      <td>jpnagar</td>\n",
       "      <td>chennai</td>\n",
       "      <td>NaN</td>\n",
       "      <td>None</td>\n",
       "    </tr>\n",
       "  </tbody>\n",
       "</table>\n",
       "</div>"
      ],
      "text/plain": [
       "   CUST_ID CUST_NAME CUST_ADDRESS CUST_CITY  PHONE_NO CUST_EMAIL\n",
       "6     1107       sam      jpnagar   chennai       NaN       None"
      ]
     },
     "execution_count": 9,
     "metadata": {},
     "output_type": "execute_result"
    }
   ],
   "source": [
    "#display cust sam detail\n",
    "cust[cust['CUST_NAME']=='sam']"
   ]
  },
  {
   "cell_type": "code",
   "execution_count": 10,
   "metadata": {},
   "outputs": [
    {
     "data": {
      "text/plain": [
       "0    abc\n",
       "Name: CUST_NAME, dtype: object"
      ]
     },
     "execution_count": 10,
     "metadata": {},
     "output_type": "execute_result"
    }
   ],
   "source": [
    "#display all customer name start with a\n",
    "cust['CUST_NAME'][cust['CUST_NAME'].str.startswith('a')]"
   ]
  },
  {
   "cell_type": "code",
   "execution_count": 11,
   "metadata": {},
   "outputs": [
    {
     "data": {
      "text/plain": [
       "0    abc\n",
       "5    tim\n",
       "Name: CUST_NAME, dtype: object"
      ]
     },
     "execution_count": 11,
     "metadata": {},
     "output_type": "execute_result"
    }
   ],
   "source": [
    "#display customer who belong in bangalore\n",
    "cust['CUST_NAME'][cust['CUST_CITY'].str.startswith('bangalore')]"
   ]
  },
  {
   "cell_type": "code",
   "execution_count": 27,
   "metadata": {},
   "outputs": [
    {
     "data": {
      "text/html": [
       "<div>\n",
       "<style scoped>\n",
       "    .dataframe tbody tr th:only-of-type {\n",
       "        vertical-align: middle;\n",
       "    }\n",
       "\n",
       "    .dataframe tbody tr th {\n",
       "        vertical-align: top;\n",
       "    }\n",
       "\n",
       "    .dataframe thead th {\n",
       "        text-align: right;\n",
       "    }\n",
       "</style>\n",
       "<table border=\"1\" class=\"dataframe\">\n",
       "  <thead>\n",
       "    <tr style=\"text-align: right;\">\n",
       "      <th></th>\n",
       "      <th>CUST_ID</th>\n",
       "      <th>CUST_NAME</th>\n",
       "      <th>CUST_CITY</th>\n",
       "    </tr>\n",
       "  </thead>\n",
       "  <tbody>\n",
       "    <tr>\n",
       "      <th>5</th>\n",
       "      <td>1106</td>\n",
       "      <td>tim</td>\n",
       "      <td>bangalore</td>\n",
       "    </tr>\n",
       "  </tbody>\n",
       "</table>\n",
       "</div>"
      ],
      "text/plain": [
       "   CUST_ID CUST_NAME  CUST_CITY\n",
       "5     1106       tim  bangalore"
      ]
     },
     "execution_count": 27,
     "metadata": {},
     "output_type": "execute_result"
    }
   ],
   "source": [
    "#display cust_id,name,city of cust tim\n",
    "cust[['CUST_ID','CUST_NAME','CUST_CITY']][cust['CUST_NAME']=='tim']"
   ]
  },
  {
   "cell_type": "code",
   "execution_count": null,
   "metadata": {},
   "outputs": [],
   "source": []
  },
  {
   "cell_type": "markdown",
   "metadata": {},
   "source": [
    "## Product_retail table"
   ]
  },
  {
   "cell_type": "code",
   "execution_count": 34,
   "metadata": {},
   "outputs": [
    {
     "data": {
      "text/html": [
       "<div>\n",
       "<style scoped>\n",
       "    .dataframe tbody tr th:only-of-type {\n",
       "        vertical-align: middle;\n",
       "    }\n",
       "\n",
       "    .dataframe tbody tr th {\n",
       "        vertical-align: top;\n",
       "    }\n",
       "\n",
       "    .dataframe thead th {\n",
       "        text-align: right;\n",
       "    }\n",
       "</style>\n",
       "<table border=\"1\" class=\"dataframe\">\n",
       "  <thead>\n",
       "    <tr style=\"text-align: right;\">\n",
       "      <th></th>\n",
       "      <th>PROD_ID</th>\n",
       "      <th>P_NAME</th>\n",
       "      <th>PRICE</th>\n",
       "      <th>COST</th>\n",
       "      <th>LAUNCH_DATE</th>\n",
       "      <th>P_FAMILY</th>\n",
       "    </tr>\n",
       "  </thead>\n",
       "  <tbody>\n",
       "    <tr>\n",
       "      <th>0</th>\n",
       "      <td>100</td>\n",
       "      <td>tv</td>\n",
       "      <td>40000</td>\n",
       "      <td>45000</td>\n",
       "      <td>2021-01-12</td>\n",
       "      <td>electronics</td>\n",
       "    </tr>\n",
       "    <tr>\n",
       "      <th>1</th>\n",
       "      <td>200</td>\n",
       "      <td>fridge</td>\n",
       "      <td>20000</td>\n",
       "      <td>18000</td>\n",
       "      <td>2022-02-24</td>\n",
       "      <td>electronics</td>\n",
       "    </tr>\n",
       "    <tr>\n",
       "      <th>2</th>\n",
       "      <td>300</td>\n",
       "      <td>Computer</td>\n",
       "      <td>30000</td>\n",
       "      <td>25000</td>\n",
       "      <td>2020-03-11</td>\n",
       "      <td>electronics</td>\n",
       "    </tr>\n",
       "    <tr>\n",
       "      <th>3</th>\n",
       "      <td>400</td>\n",
       "      <td>Printer</td>\n",
       "      <td>10000</td>\n",
       "      <td>8000</td>\n",
       "      <td>2020-08-16</td>\n",
       "      <td>electronics</td>\n",
       "    </tr>\n",
       "    <tr>\n",
       "      <th>4</th>\n",
       "      <td>500</td>\n",
       "      <td>table</td>\n",
       "      <td>25000</td>\n",
       "      <td>20000</td>\n",
       "      <td>2019-09-14</td>\n",
       "      <td>Furniture</td>\n",
       "    </tr>\n",
       "    <tr>\n",
       "      <th>5</th>\n",
       "      <td>600</td>\n",
       "      <td>sofa</td>\n",
       "      <td>80000</td>\n",
       "      <td>95000</td>\n",
       "      <td>2020-12-10</td>\n",
       "      <td>Furniture</td>\n",
       "    </tr>\n",
       "  </tbody>\n",
       "</table>\n",
       "</div>"
      ],
      "text/plain": [
       "   PROD_ID    P_NAME  PRICE   COST LAUNCH_DATE     P_FAMILY\n",
       "0      100        tv  40000  45000  2021-01-12  electronics\n",
       "1      200    fridge  20000  18000  2022-02-24  electronics\n",
       "2      300  Computer  30000  25000  2020-03-11  electronics\n",
       "3      400   Printer  10000   8000  2020-08-16  electronics\n",
       "4      500     table  25000  20000  2019-09-14    Furniture\n",
       "5      600      sofa  80000  95000  2020-12-10    Furniture"
      ]
     },
     "execution_count": 34,
     "metadata": {},
     "output_type": "execute_result"
    }
   ],
   "source": [
    "pr=pd.read_sql('select*from product_retail',con=con)\n",
    "pr"
   ]
  },
  {
   "cell_type": "code",
   "execution_count": 88,
   "metadata": {},
   "outputs": [
    {
     "data": {
      "text/plain": [
       "0    100\n",
       "Name: PROD_ID, dtype: int64"
      ]
     },
     "execution_count": 88,
     "metadata": {},
     "output_type": "execute_result"
    }
   ],
   "source": [
    "#display prod_id where price is 40000 and p_name is tv\n",
    "pr['PROD_ID'][(pr['PRICE']==40000) & (pr['P_NAME']=='tv')]"
   ]
  },
  {
   "cell_type": "code",
   "execution_count": 48,
   "metadata": {},
   "outputs": [
    {
     "data": {
      "text/plain": [
       "0          tv\n",
       "2    Computer\n",
       "Name: P_NAME, dtype: object"
      ]
     },
     "execution_count": 48,
     "metadata": {},
     "output_type": "execute_result"
    }
   ],
   "source": [
    "#display product_name where price is in range of 30000 and 50000\n",
    "pr['P_NAME'][pr['PRICE'].between(30000,50000)]"
   ]
  },
  {
   "cell_type": "code",
   "execution_count": 123,
   "metadata": {},
   "outputs": [
    {
     "data": {
      "text/plain": [
       "P_FAMILY\n",
       "Furniture      52500.0\n",
       "electronics    25000.0\n",
       "Name: PRICE, dtype: float64"
      ]
     },
     "execution_count": 123,
     "metadata": {},
     "output_type": "execute_result"
    }
   ],
   "source": [
    "#display p_family wise average price\n",
    "product=pr.groupby('P_FAMILY')\n",
    "product['PRICE'].mean()"
   ]
  },
  {
   "cell_type": "code",
   "execution_count": 149,
   "metadata": {
    "scrolled": true
   },
   "outputs": [
    {
     "data": {
      "text/html": [
       "<div>\n",
       "<style scoped>\n",
       "    .dataframe tbody tr th:only-of-type {\n",
       "        vertical-align: middle;\n",
       "    }\n",
       "\n",
       "    .dataframe tbody tr th {\n",
       "        vertical-align: top;\n",
       "    }\n",
       "\n",
       "    .dataframe thead th {\n",
       "        text-align: right;\n",
       "    }\n",
       "</style>\n",
       "<table border=\"1\" class=\"dataframe\">\n",
       "  <thead>\n",
       "    <tr style=\"text-align: right;\">\n",
       "      <th></th>\n",
       "      <th>P_NAME</th>\n",
       "      <th>COST</th>\n",
       "      <th>PRICE</th>\n",
       "      <th>profit</th>\n",
       "    </tr>\n",
       "  </thead>\n",
       "  <tbody>\n",
       "    <tr>\n",
       "      <th>0</th>\n",
       "      <td>tv</td>\n",
       "      <td>45000</td>\n",
       "      <td>40000</td>\n",
       "      <td>-5000</td>\n",
       "    </tr>\n",
       "    <tr>\n",
       "      <th>1</th>\n",
       "      <td>fridge</td>\n",
       "      <td>18000</td>\n",
       "      <td>20000</td>\n",
       "      <td>2000</td>\n",
       "    </tr>\n",
       "    <tr>\n",
       "      <th>2</th>\n",
       "      <td>Computer</td>\n",
       "      <td>25000</td>\n",
       "      <td>30000</td>\n",
       "      <td>5000</td>\n",
       "    </tr>\n",
       "    <tr>\n",
       "      <th>3</th>\n",
       "      <td>Printer</td>\n",
       "      <td>8000</td>\n",
       "      <td>10000</td>\n",
       "      <td>2000</td>\n",
       "    </tr>\n",
       "    <tr>\n",
       "      <th>4</th>\n",
       "      <td>table</td>\n",
       "      <td>20000</td>\n",
       "      <td>25000</td>\n",
       "      <td>5000</td>\n",
       "    </tr>\n",
       "    <tr>\n",
       "      <th>5</th>\n",
       "      <td>sofa</td>\n",
       "      <td>95000</td>\n",
       "      <td>80000</td>\n",
       "      <td>-15000</td>\n",
       "    </tr>\n",
       "  </tbody>\n",
       "</table>\n",
       "</div>"
      ],
      "text/plain": [
       "     P_NAME   COST  PRICE  profit\n",
       "0        tv  45000  40000   -5000\n",
       "1    fridge  18000  20000    2000\n",
       "2  Computer  25000  30000    5000\n",
       "3   Printer   8000  10000    2000\n",
       "4     table  20000  25000    5000\n",
       "5      sofa  95000  80000  -15000"
      ]
     },
     "execution_count": 149,
     "metadata": {},
     "output_type": "execute_result"
    }
   ],
   "source": [
    "#display product name,profit,price,cost\n",
    "pr.assign(profit=pr['PRICE']-pr['COST'])[['P_NAME','COST','PRICE','profit']]"
   ]
  },
  {
   "cell_type": "code",
   "execution_count": 153,
   "metadata": {},
   "outputs": [
    {
     "data": {
      "text/html": [
       "<div>\n",
       "<style scoped>\n",
       "    .dataframe tbody tr th:only-of-type {\n",
       "        vertical-align: middle;\n",
       "    }\n",
       "\n",
       "    .dataframe tbody tr th {\n",
       "        vertical-align: top;\n",
       "    }\n",
       "\n",
       "    .dataframe thead th {\n",
       "        text-align: right;\n",
       "    }\n",
       "</style>\n",
       "<table border=\"1\" class=\"dataframe\">\n",
       "  <thead>\n",
       "    <tr style=\"text-align: right;\">\n",
       "      <th></th>\n",
       "      <th>P_NAME</th>\n",
       "      <th>profit</th>\n",
       "    </tr>\n",
       "  </thead>\n",
       "  <tbody>\n",
       "    <tr>\n",
       "      <th>0</th>\n",
       "      <td>tv</td>\n",
       "      <td>False</td>\n",
       "    </tr>\n",
       "    <tr>\n",
       "      <th>1</th>\n",
       "      <td>fridge</td>\n",
       "      <td>True</td>\n",
       "    </tr>\n",
       "    <tr>\n",
       "      <th>2</th>\n",
       "      <td>Computer</td>\n",
       "      <td>True</td>\n",
       "    </tr>\n",
       "    <tr>\n",
       "      <th>3</th>\n",
       "      <td>Printer</td>\n",
       "      <td>True</td>\n",
       "    </tr>\n",
       "    <tr>\n",
       "      <th>4</th>\n",
       "      <td>table</td>\n",
       "      <td>True</td>\n",
       "    </tr>\n",
       "    <tr>\n",
       "      <th>5</th>\n",
       "      <td>sofa</td>\n",
       "      <td>False</td>\n",
       "    </tr>\n",
       "  </tbody>\n",
       "</table>\n",
       "</div>"
      ],
      "text/plain": [
       "     P_NAME  profit\n",
       "0        tv   False\n",
       "1    fridge    True\n",
       "2  Computer    True\n",
       "3   Printer    True\n",
       "4     table    True\n",
       "5      sofa   False"
      ]
     },
     "execution_count": 153,
     "metadata": {},
     "output_type": "execute_result"
    }
   ],
   "source": [
    "#display product profit more than 1000\n",
    "pr.assign(profit=pr['PRICE']-pr['COST']>1000)[['P_NAME','profit']]"
   ]
  },
  {
   "cell_type": "code",
   "execution_count": 171,
   "metadata": {},
   "outputs": [
    {
     "data": {
      "text/html": [
       "<div>\n",
       "<style scoped>\n",
       "    .dataframe tbody tr th:only-of-type {\n",
       "        vertical-align: middle;\n",
       "    }\n",
       "\n",
       "    .dataframe tbody tr th {\n",
       "        vertical-align: top;\n",
       "    }\n",
       "\n",
       "    .dataframe thead th {\n",
       "        text-align: right;\n",
       "    }\n",
       "</style>\n",
       "<table border=\"1\" class=\"dataframe\">\n",
       "  <thead>\n",
       "    <tr style=\"text-align: right;\">\n",
       "      <th></th>\n",
       "      <th>PROD_ID</th>\n",
       "      <th>P_NAME</th>\n",
       "      <th>PRICE</th>\n",
       "      <th>COST</th>\n",
       "      <th>LAUNCH_DATE</th>\n",
       "      <th>P_FAMILY</th>\n",
       "    </tr>\n",
       "  </thead>\n",
       "  <tbody>\n",
       "  </tbody>\n",
       "</table>\n",
       "</div>"
      ],
      "text/plain": [
       "Empty DataFrame\n",
       "Columns: [PROD_ID, P_NAME, PRICE, COST, LAUNCH_DATE, P_FAMILY]\n",
       "Index: []"
      ]
     },
     "execution_count": 171,
     "metadata": {},
     "output_type": "execute_result"
    }
   ],
   "source": [
    "#disply product which is not in p_family electronics,furniture\n",
    "family=('electronics','Furniture')\n",
    "pr[~pr.P_FAMILY.isin(family)]"
   ]
  },
  {
   "cell_type": "code",
   "execution_count": 172,
   "metadata": {},
   "outputs": [
    {
     "data": {
      "text/html": [
       "<div>\n",
       "<style scoped>\n",
       "    .dataframe tbody tr th:only-of-type {\n",
       "        vertical-align: middle;\n",
       "    }\n",
       "\n",
       "    .dataframe tbody tr th {\n",
       "        vertical-align: top;\n",
       "    }\n",
       "\n",
       "    .dataframe thead th {\n",
       "        text-align: right;\n",
       "    }\n",
       "</style>\n",
       "<table border=\"1\" class=\"dataframe\">\n",
       "  <thead>\n",
       "    <tr style=\"text-align: right;\">\n",
       "      <th></th>\n",
       "      <th>PROD_ID</th>\n",
       "      <th>P_NAME</th>\n",
       "      <th>PRICE</th>\n",
       "      <th>COST</th>\n",
       "      <th>LAUNCH_DATE</th>\n",
       "      <th>P_FAMILY</th>\n",
       "    </tr>\n",
       "  </thead>\n",
       "  <tbody>\n",
       "    <tr>\n",
       "      <th>0</th>\n",
       "      <td>100</td>\n",
       "      <td>tv</td>\n",
       "      <td>40000</td>\n",
       "      <td>45000</td>\n",
       "      <td>2021-01-12</td>\n",
       "      <td>electronics</td>\n",
       "    </tr>\n",
       "    <tr>\n",
       "      <th>1</th>\n",
       "      <td>200</td>\n",
       "      <td>fridge</td>\n",
       "      <td>20000</td>\n",
       "      <td>18000</td>\n",
       "      <td>2022-02-24</td>\n",
       "      <td>electronics</td>\n",
       "    </tr>\n",
       "    <tr>\n",
       "      <th>2</th>\n",
       "      <td>300</td>\n",
       "      <td>Computer</td>\n",
       "      <td>30000</td>\n",
       "      <td>25000</td>\n",
       "      <td>2020-03-11</td>\n",
       "      <td>electronics</td>\n",
       "    </tr>\n",
       "    <tr>\n",
       "      <th>3</th>\n",
       "      <td>400</td>\n",
       "      <td>Printer</td>\n",
       "      <td>10000</td>\n",
       "      <td>8000</td>\n",
       "      <td>2020-08-16</td>\n",
       "      <td>electronics</td>\n",
       "    </tr>\n",
       "    <tr>\n",
       "      <th>4</th>\n",
       "      <td>500</td>\n",
       "      <td>table</td>\n",
       "      <td>25000</td>\n",
       "      <td>20000</td>\n",
       "      <td>2019-09-14</td>\n",
       "      <td>Furniture</td>\n",
       "    </tr>\n",
       "    <tr>\n",
       "      <th>5</th>\n",
       "      <td>600</td>\n",
       "      <td>sofa</td>\n",
       "      <td>80000</td>\n",
       "      <td>95000</td>\n",
       "      <td>2020-12-10</td>\n",
       "      <td>Furniture</td>\n",
       "    </tr>\n",
       "  </tbody>\n",
       "</table>\n",
       "</div>"
      ],
      "text/plain": [
       "   PROD_ID    P_NAME  PRICE   COST LAUNCH_DATE     P_FAMILY\n",
       "0      100        tv  40000  45000  2021-01-12  electronics\n",
       "1      200    fridge  20000  18000  2022-02-24  electronics\n",
       "2      300  Computer  30000  25000  2020-03-11  electronics\n",
       "3      400   Printer  10000   8000  2020-08-16  electronics\n",
       "4      500     table  25000  20000  2019-09-14    Furniture\n",
       "5      600      sofa  80000  95000  2020-12-10    Furniture"
      ]
     },
     "execution_count": 172,
     "metadata": {},
     "output_type": "execute_result"
    }
   ],
   "source": [
    "#disply product which is in p_family electronics,furniture\n",
    "pr[pr.P_FAMILY.isin(family)]"
   ]
  },
  {
   "cell_type": "code",
   "execution_count": null,
   "metadata": {},
   "outputs": [],
   "source": []
  },
  {
   "cell_type": "markdown",
   "metadata": {},
   "source": [
    "## Resort table"
   ]
  },
  {
   "cell_type": "code",
   "execution_count": 124,
   "metadata": {},
   "outputs": [
    {
     "data": {
      "text/html": [
       "<div>\n",
       "<style scoped>\n",
       "    .dataframe tbody tr th:only-of-type {\n",
       "        vertical-align: middle;\n",
       "    }\n",
       "\n",
       "    .dataframe tbody tr th {\n",
       "        vertical-align: top;\n",
       "    }\n",
       "\n",
       "    .dataframe thead th {\n",
       "        text-align: right;\n",
       "    }\n",
       "</style>\n",
       "<table border=\"1\" class=\"dataframe\">\n",
       "  <thead>\n",
       "    <tr style=\"text-align: right;\">\n",
       "      <th></th>\n",
       "      <th>RES_ID</th>\n",
       "      <th>RES_NAME</th>\n",
       "      <th>RES_TYPE</th>\n",
       "      <th>COUNTRY_ID</th>\n",
       "    </tr>\n",
       "  </thead>\n",
       "  <tbody>\n",
       "    <tr>\n",
       "      <th>0</th>\n",
       "      <td>50</td>\n",
       "      <td>TAJ MUMBAI</td>\n",
       "      <td>CITY CENTER</td>\n",
       "      <td>100</td>\n",
       "    </tr>\n",
       "    <tr>\n",
       "      <th>1</th>\n",
       "      <td>51</td>\n",
       "      <td>TAJ GOA</td>\n",
       "      <td>BEACH RESORT</td>\n",
       "      <td>100</td>\n",
       "    </tr>\n",
       "    <tr>\n",
       "      <th>2</th>\n",
       "      <td>52</td>\n",
       "      <td>RAMADA</td>\n",
       "      <td>BEACH RESORT</td>\n",
       "      <td>101</td>\n",
       "    </tr>\n",
       "    <tr>\n",
       "      <th>3</th>\n",
       "      <td>53</td>\n",
       "      <td>BLUE LIFE</td>\n",
       "      <td>BEACH RESORT</td>\n",
       "      <td>101</td>\n",
       "    </tr>\n",
       "    <tr>\n",
       "      <th>4</th>\n",
       "      <td>54</td>\n",
       "      <td>LEMON TREE</td>\n",
       "      <td>CITY CENTER</td>\n",
       "      <td>100</td>\n",
       "    </tr>\n",
       "  </tbody>\n",
       "</table>\n",
       "</div>"
      ],
      "text/plain": [
       "   RES_ID    RES_NAME      RES_TYPE  COUNTRY_ID\n",
       "0      50  TAJ MUMBAI   CITY CENTER         100\n",
       "1      51     TAJ GOA  BEACH RESORT         100\n",
       "2      52      RAMADA  BEACH RESORT         101\n",
       "3      53   BLUE LIFE  BEACH RESORT         101\n",
       "4      54  LEMON TREE   CITY CENTER         100"
      ]
     },
     "execution_count": 124,
     "metadata": {},
     "output_type": "execute_result"
    }
   ],
   "source": [
    "res=pd.read_sql('select*from resort',con=con)\n",
    "res"
   ]
  },
  {
   "cell_type": "code",
   "execution_count": 125,
   "metadata": {},
   "outputs": [
    {
     "data": {
      "text/html": [
       "<div>\n",
       "<style scoped>\n",
       "    .dataframe tbody tr th:only-of-type {\n",
       "        vertical-align: middle;\n",
       "    }\n",
       "\n",
       "    .dataframe tbody tr th {\n",
       "        vertical-align: top;\n",
       "    }\n",
       "\n",
       "    .dataframe thead th {\n",
       "        text-align: right;\n",
       "    }\n",
       "</style>\n",
       "<table border=\"1\" class=\"dataframe\">\n",
       "  <thead>\n",
       "    <tr style=\"text-align: right;\">\n",
       "      <th></th>\n",
       "      <th>RES_ID</th>\n",
       "      <th>RES_NAME</th>\n",
       "      <th>RES_TYPE</th>\n",
       "    </tr>\n",
       "    <tr>\n",
       "      <th>COUNTRY_ID</th>\n",
       "      <th></th>\n",
       "      <th></th>\n",
       "      <th></th>\n",
       "    </tr>\n",
       "  </thead>\n",
       "  <tbody>\n",
       "    <tr>\n",
       "      <th>100</th>\n",
       "      <td>3</td>\n",
       "      <td>3</td>\n",
       "      <td>3</td>\n",
       "    </tr>\n",
       "    <tr>\n",
       "      <th>101</th>\n",
       "      <td>2</td>\n",
       "      <td>2</td>\n",
       "      <td>2</td>\n",
       "    </tr>\n",
       "  </tbody>\n",
       "</table>\n",
       "</div>"
      ],
      "text/plain": [
       "            RES_ID  RES_NAME  RES_TYPE\n",
       "COUNTRY_ID                            \n",
       "100              3         3         3\n",
       "101              2         2         2"
      ]
     },
     "execution_count": 125,
     "metadata": {},
     "output_type": "execute_result"
    }
   ],
   "source": [
    "#display the count of resort\n",
    "res.groupby(['COUNTRY_ID']).count()"
   ]
  },
  {
   "cell_type": "code",
   "execution_count": 154,
   "metadata": {},
   "outputs": [
    {
     "data": {
      "text/plain": [
       "COUNTRY_ID\n",
       "100    3\n",
       "101    2\n",
       "Name: RES_ID, dtype: int64"
      ]
     },
     "execution_count": 154,
     "metadata": {},
     "output_type": "execute_result"
    }
   ],
   "source": [
    "#display the count of resort\n",
    "res.groupby('COUNTRY_ID')['RES_ID'].count()"
   ]
  },
  {
   "cell_type": "code",
   "execution_count": null,
   "metadata": {},
   "outputs": [],
   "source": []
  },
  {
   "cell_type": "markdown",
   "metadata": {},
   "source": [
    "## customer2 table"
   ]
  },
  {
   "cell_type": "code",
   "execution_count": 69,
   "metadata": {},
   "outputs": [
    {
     "data": {
      "text/html": [
       "<div>\n",
       "<style scoped>\n",
       "    .dataframe tbody tr th:only-of-type {\n",
       "        vertical-align: middle;\n",
       "    }\n",
       "\n",
       "    .dataframe tbody tr th {\n",
       "        vertical-align: top;\n",
       "    }\n",
       "\n",
       "    .dataframe thead th {\n",
       "        text-align: right;\n",
       "    }\n",
       "</style>\n",
       "<table border=\"1\" class=\"dataframe\">\n",
       "  <thead>\n",
       "    <tr style=\"text-align: right;\">\n",
       "      <th></th>\n",
       "      <th>CUST_ID</th>\n",
       "      <th>CUST_NAME</th>\n",
       "      <th>CUST_PHONE</th>\n",
       "      <th>CUST_CITY</th>\n",
       "      <th>CUST_DOB</th>\n",
       "      <th>COUNTRY_ID</th>\n",
       "    </tr>\n",
       "  </thead>\n",
       "  <tbody>\n",
       "    <tr>\n",
       "      <th>0</th>\n",
       "      <td>1</td>\n",
       "      <td>TIM</td>\n",
       "      <td>67687898.0</td>\n",
       "      <td>NY</td>\n",
       "      <td>2000-01-10</td>\n",
       "      <td>102</td>\n",
       "    </tr>\n",
       "    <tr>\n",
       "      <th>1</th>\n",
       "      <td>2</td>\n",
       "      <td>BILL</td>\n",
       "      <td>89978997.0</td>\n",
       "      <td>NY</td>\n",
       "      <td>1999-02-12</td>\n",
       "      <td>102</td>\n",
       "    </tr>\n",
       "    <tr>\n",
       "      <th>2</th>\n",
       "      <td>3</td>\n",
       "      <td>RAM</td>\n",
       "      <td>87997997.0</td>\n",
       "      <td>BLR</td>\n",
       "      <td>2001-03-13</td>\n",
       "      <td>100</td>\n",
       "    </tr>\n",
       "    <tr>\n",
       "      <th>3</th>\n",
       "      <td>4</td>\n",
       "      <td>KUMAR</td>\n",
       "      <td>56867989.0</td>\n",
       "      <td>BLR</td>\n",
       "      <td>2003-04-19</td>\n",
       "      <td>100</td>\n",
       "    </tr>\n",
       "    <tr>\n",
       "      <th>4</th>\n",
       "      <td>5</td>\n",
       "      <td>UMA</td>\n",
       "      <td>54578999.0</td>\n",
       "      <td>TORANTO</td>\n",
       "      <td>NaT</td>\n",
       "      <td>103</td>\n",
       "    </tr>\n",
       "    <tr>\n",
       "      <th>5</th>\n",
       "      <td>6</td>\n",
       "      <td>SURAJ</td>\n",
       "      <td>97909788.0</td>\n",
       "      <td>TORANTO</td>\n",
       "      <td>1998-11-15</td>\n",
       "      <td>103</td>\n",
       "    </tr>\n",
       "    <tr>\n",
       "      <th>6</th>\n",
       "      <td>7</td>\n",
       "      <td>SUMA</td>\n",
       "      <td>NaN</td>\n",
       "      <td>MUMBAI</td>\n",
       "      <td>NaT</td>\n",
       "      <td>100</td>\n",
       "    </tr>\n",
       "    <tr>\n",
       "      <th>7</th>\n",
       "      <td>8</td>\n",
       "      <td>VISH</td>\n",
       "      <td>NaN</td>\n",
       "      <td>MUMBAI</td>\n",
       "      <td>1988-02-14</td>\n",
       "      <td>100</td>\n",
       "    </tr>\n",
       "  </tbody>\n",
       "</table>\n",
       "</div>"
      ],
      "text/plain": [
       "   CUST_ID CUST_NAME  CUST_PHONE CUST_CITY   CUST_DOB  COUNTRY_ID\n",
       "0        1       TIM  67687898.0        NY 2000-01-10         102\n",
       "1        2      BILL  89978997.0        NY 1999-02-12         102\n",
       "2        3       RAM  87997997.0       BLR 2001-03-13         100\n",
       "3        4     KUMAR  56867989.0       BLR 2003-04-19         100\n",
       "4        5       UMA  54578999.0   TORANTO        NaT         103\n",
       "5        6     SURAJ  97909788.0   TORANTO 1998-11-15         103\n",
       "6        7      SUMA         NaN    MUMBAI        NaT         100\n",
       "7        8      VISH         NaN    MUMBAI 1988-02-14         100"
      ]
     },
     "execution_count": 69,
     "metadata": {},
     "output_type": "execute_result"
    }
   ],
   "source": [
    "ctt=pd.read_sql('select*from customer2',con=con)\n",
    "ctt"
   ]
  },
  {
   "cell_type": "code",
   "execution_count": 141,
   "metadata": {
    "scrolled": true
   },
   "outputs": [
    {
     "data": {
      "text/plain": [
       "COUNTRY_ID\n",
       "100    4\n",
       "102    2\n",
       "103    2\n",
       "Name: CUST_ID, dtype: int64"
      ]
     },
     "execution_count": 141,
     "metadata": {},
     "output_type": "execute_result"
    }
   ],
   "source": [
    "#display countrywise number of cust \n",
    "ctt.groupby('COUNTRY_ID')['CUST_ID'].count()"
   ]
  },
  {
   "cell_type": "code",
   "execution_count": 135,
   "metadata": {},
   "outputs": [
    {
     "data": {
      "text/plain": [
       "6    SUMA\n",
       "7    VISH\n",
       "Name: CUST_NAME, dtype: object"
      ]
     },
     "execution_count": 135,
     "metadata": {},
     "output_type": "execute_result"
    }
   ],
   "source": [
    "#display cust who doesn't have phone\n",
    "ctt['CUST_NAME'][ctt['CUST_PHONE'].isna()]"
   ]
  },
  {
   "cell_type": "code",
   "execution_count": 136,
   "metadata": {},
   "outputs": [
    {
     "data": {
      "text/plain": [
       "0      TIM\n",
       "1     BILL\n",
       "2      RAM\n",
       "3    KUMAR\n",
       "4      UMA\n",
       "5    SURAJ\n",
       "Name: CUST_NAME, dtype: object"
      ]
     },
     "execution_count": 136,
     "metadata": {},
     "output_type": "execute_result"
    }
   ],
   "source": [
    "#display cust who have phone\n",
    "ctt['CUST_NAME'][ctt['CUST_PHONE'].notna()]"
   ]
  },
  {
   "cell_type": "code",
   "execution_count": null,
   "metadata": {},
   "outputs": [],
   "source": []
  },
  {
   "cell_type": "markdown",
   "metadata": {},
   "source": [
    "## Sales_retail table"
   ]
  },
  {
   "cell_type": "code",
   "execution_count": 95,
   "metadata": {},
   "outputs": [
    {
     "data": {
      "text/html": [
       "<div>\n",
       "<style scoped>\n",
       "    .dataframe tbody tr th:only-of-type {\n",
       "        vertical-align: middle;\n",
       "    }\n",
       "\n",
       "    .dataframe tbody tr th {\n",
       "        vertical-align: top;\n",
       "    }\n",
       "\n",
       "    .dataframe thead th {\n",
       "        text-align: right;\n",
       "    }\n",
       "</style>\n",
       "<table border=\"1\" class=\"dataframe\">\n",
       "  <thead>\n",
       "    <tr style=\"text-align: right;\">\n",
       "      <th></th>\n",
       "      <th>SALES_ID</th>\n",
       "      <th>SALES_DATE</th>\n",
       "      <th>CUST_ID</th>\n",
       "      <th>PROD_ID</th>\n",
       "      <th>AMOUNT</th>\n",
       "    </tr>\n",
       "  </thead>\n",
       "  <tbody>\n",
       "    <tr>\n",
       "      <th>0</th>\n",
       "      <td>1</td>\n",
       "      <td>2020-04-22</td>\n",
       "      <td>1101</td>\n",
       "      <td>100</td>\n",
       "      <td>25000</td>\n",
       "    </tr>\n",
       "    <tr>\n",
       "      <th>1</th>\n",
       "      <td>2</td>\n",
       "      <td>2021-12-13</td>\n",
       "      <td>1102</td>\n",
       "      <td>100</td>\n",
       "      <td>35000</td>\n",
       "    </tr>\n",
       "    <tr>\n",
       "      <th>2</th>\n",
       "      <td>3</td>\n",
       "      <td>2020-03-29</td>\n",
       "      <td>1103</td>\n",
       "      <td>200</td>\n",
       "      <td>65000</td>\n",
       "    </tr>\n",
       "    <tr>\n",
       "      <th>3</th>\n",
       "      <td>4</td>\n",
       "      <td>2019-06-19</td>\n",
       "      <td>1104</td>\n",
       "      <td>200</td>\n",
       "      <td>85000</td>\n",
       "    </tr>\n",
       "    <tr>\n",
       "      <th>4</th>\n",
       "      <td>5</td>\n",
       "      <td>2018-11-20</td>\n",
       "      <td>1105</td>\n",
       "      <td>300</td>\n",
       "      <td>95000</td>\n",
       "    </tr>\n",
       "    <tr>\n",
       "      <th>5</th>\n",
       "      <td>6</td>\n",
       "      <td>2021-05-20</td>\n",
       "      <td>1105</td>\n",
       "      <td>300</td>\n",
       "      <td>25000</td>\n",
       "    </tr>\n",
       "    <tr>\n",
       "      <th>6</th>\n",
       "      <td>7</td>\n",
       "      <td>2020-05-21</td>\n",
       "      <td>1101</td>\n",
       "      <td>300</td>\n",
       "      <td>45000</td>\n",
       "    </tr>\n",
       "    <tr>\n",
       "      <th>7</th>\n",
       "      <td>8</td>\n",
       "      <td>2020-05-22</td>\n",
       "      <td>1101</td>\n",
       "      <td>300</td>\n",
       "      <td>55000</td>\n",
       "    </tr>\n",
       "    <tr>\n",
       "      <th>8</th>\n",
       "      <td>9</td>\n",
       "      <td>2021-05-23</td>\n",
       "      <td>1101</td>\n",
       "      <td>400</td>\n",
       "      <td>45000</td>\n",
       "    </tr>\n",
       "    <tr>\n",
       "      <th>9</th>\n",
       "      <td>10</td>\n",
       "      <td>2020-05-24</td>\n",
       "      <td>1102</td>\n",
       "      <td>100</td>\n",
       "      <td>15000</td>\n",
       "    </tr>\n",
       "    <tr>\n",
       "      <th>10</th>\n",
       "      <td>11</td>\n",
       "      <td>2019-05-20</td>\n",
       "      <td>1102</td>\n",
       "      <td>200</td>\n",
       "      <td>25000</td>\n",
       "    </tr>\n",
       "    <tr>\n",
       "      <th>11</th>\n",
       "      <td>12</td>\n",
       "      <td>2018-05-21</td>\n",
       "      <td>1103</td>\n",
       "      <td>400</td>\n",
       "      <td>45000</td>\n",
       "    </tr>\n",
       "    <tr>\n",
       "      <th>12</th>\n",
       "      <td>13</td>\n",
       "      <td>2019-05-22</td>\n",
       "      <td>1104</td>\n",
       "      <td>500</td>\n",
       "      <td>55000</td>\n",
       "    </tr>\n",
       "    <tr>\n",
       "      <th>13</th>\n",
       "      <td>14</td>\n",
       "      <td>2020-05-23</td>\n",
       "      <td>1105</td>\n",
       "      <td>200</td>\n",
       "      <td>45000</td>\n",
       "    </tr>\n",
       "    <tr>\n",
       "      <th>14</th>\n",
       "      <td>15</td>\n",
       "      <td>2020-05-24</td>\n",
       "      <td>1105</td>\n",
       "      <td>100</td>\n",
       "      <td>15000</td>\n",
       "    </tr>\n",
       "  </tbody>\n",
       "</table>\n",
       "</div>"
      ],
      "text/plain": [
       "    SALES_ID SALES_DATE  CUST_ID  PROD_ID  AMOUNT\n",
       "0          1 2020-04-22     1101      100   25000\n",
       "1          2 2021-12-13     1102      100   35000\n",
       "2          3 2020-03-29     1103      200   65000\n",
       "3          4 2019-06-19     1104      200   85000\n",
       "4          5 2018-11-20     1105      300   95000\n",
       "5          6 2021-05-20     1105      300   25000\n",
       "6          7 2020-05-21     1101      300   45000\n",
       "7          8 2020-05-22     1101      300   55000\n",
       "8          9 2021-05-23     1101      400   45000\n",
       "9         10 2020-05-24     1102      100   15000\n",
       "10        11 2019-05-20     1102      200   25000\n",
       "11        12 2018-05-21     1103      400   45000\n",
       "12        13 2019-05-22     1104      500   55000\n",
       "13        14 2020-05-23     1105      200   45000\n",
       "14        15 2020-05-24     1105      100   15000"
      ]
     },
     "execution_count": 95,
     "metadata": {},
     "output_type": "execute_result"
    }
   ],
   "source": [
    "sales=pd.read_sql('select*from sales_retail',con=con)\n",
    "sales"
   ]
  },
  {
   "cell_type": "code",
   "execution_count": 138,
   "metadata": {},
   "outputs": [
    {
     "data": {
      "text/plain": [
       "180000"
      ]
     },
     "execution_count": 138,
     "metadata": {},
     "output_type": "execute_result"
    }
   ],
   "source": [
    "#display customer which made highest sale\n",
    "sales.groupby('CUST_ID')['AMOUNT'].sum().max()"
   ]
  },
  {
   "cell_type": "code",
   "execution_count": 120,
   "metadata": {},
   "outputs": [
    {
     "data": {
      "text/plain": [
       "95000"
      ]
     },
     "execution_count": 120,
     "metadata": {},
     "output_type": "execute_result"
    }
   ],
   "source": [
    "#display custmoer who has highest amount\n",
    "sales['AMOUNT'].max()"
   ]
  },
  {
   "cell_type": "code",
   "execution_count": null,
   "metadata": {},
   "outputs": [],
   "source": []
  }
 ],
 "metadata": {
  "kernelspec": {
   "display_name": "Python 3",
   "language": "python",
   "name": "python3"
  },
  "language_info": {
   "codemirror_mode": {
    "name": "ipython",
    "version": 3
   },
   "file_extension": ".py",
   "mimetype": "text/x-python",
   "name": "python",
   "nbconvert_exporter": "python",
   "pygments_lexer": "ipython3",
   "version": "3.8.5"
  }
 },
 "nbformat": 4,
 "nbformat_minor": 4
}
