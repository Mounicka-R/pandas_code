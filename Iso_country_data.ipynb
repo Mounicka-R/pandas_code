{
 "cells": [
  {
   "cell_type": "code",
   "execution_count": 1,
   "metadata": {},
   "outputs": [],
   "source": [
    "import pandas as pd"
   ]
  },
  {
   "cell_type": "code",
   "execution_count": 2,
   "metadata": {
    "scrolled": true
   },
   "outputs": [
    {
     "data": {
      "text/html": [
       "<div>\n",
       "<style scoped>\n",
       "    .dataframe tbody tr th:only-of-type {\n",
       "        vertical-align: middle;\n",
       "    }\n",
       "\n",
       "    .dataframe tbody tr th {\n",
       "        vertical-align: top;\n",
       "    }\n",
       "\n",
       "    .dataframe thead th {\n",
       "        text-align: right;\n",
       "    }\n",
       "</style>\n",
       "<table border=\"1\" class=\"dataframe\">\n",
       "  <thead>\n",
       "    <tr style=\"text-align: right;\">\n",
       "      <th></th>\n",
       "      <th>Country</th>\n",
       "      <th>Two-letter Abbreviation</th>\n",
       "      <th>Country.1</th>\n",
       "      <th>Two-letter Abbreviation.1</th>\n",
       "    </tr>\n",
       "  </thead>\n",
       "  <tbody>\n",
       "    <tr>\n",
       "      <th>0</th>\n",
       "      <td>Afghanistan</td>\n",
       "      <td>AF</td>\n",
       "      <td>Laos</td>\n",
       "      <td>LA</td>\n",
       "    </tr>\n",
       "    <tr>\n",
       "      <th>1</th>\n",
       "      <td>Albania</td>\n",
       "      <td>AL</td>\n",
       "      <td>Latvia</td>\n",
       "      <td>LV</td>\n",
       "    </tr>\n",
       "    <tr>\n",
       "      <th>2</th>\n",
       "      <td>Algeria</td>\n",
       "      <td>DZ</td>\n",
       "      <td>Lebanon</td>\n",
       "      <td>LB</td>\n",
       "    </tr>\n",
       "    <tr>\n",
       "      <th>3</th>\n",
       "      <td>Andorra</td>\n",
       "      <td>AD</td>\n",
       "      <td>Lesotho</td>\n",
       "      <td>LS</td>\n",
       "    </tr>\n",
       "    <tr>\n",
       "      <th>4</th>\n",
       "      <td>Angola</td>\n",
       "      <td>AO</td>\n",
       "      <td>Liberia</td>\n",
       "      <td>LR</td>\n",
       "    </tr>\n",
       "    <tr>\n",
       "      <th>...</th>\n",
       "      <td>...</td>\n",
       "      <td>...</td>\n",
       "      <td>...</td>\n",
       "      <td>...</td>\n",
       "    </tr>\n",
       "    <tr>\n",
       "      <th>89</th>\n",
       "      <td>Kiribati</td>\n",
       "      <td>KI</td>\n",
       "      <td>Ukraine</td>\n",
       "      <td>UA</td>\n",
       "    </tr>\n",
       "    <tr>\n",
       "      <th>90</th>\n",
       "      <td>Korea, Democratic People's Republic</td>\n",
       "      <td>KP</td>\n",
       "      <td>United Arab Emirates</td>\n",
       "      <td>AE</td>\n",
       "    </tr>\n",
       "    <tr>\n",
       "      <th>91</th>\n",
       "      <td>Korea, Republic</td>\n",
       "      <td>KR</td>\n",
       "      <td>United Kingdom</td>\n",
       "      <td>GB</td>\n",
       "    </tr>\n",
       "    <tr>\n",
       "      <th>92</th>\n",
       "      <td>Kuwait</td>\n",
       "      <td>KW</td>\n",
       "      <td>United States</td>\n",
       "      <td>US</td>\n",
       "    </tr>\n",
       "    <tr>\n",
       "      <th>93</th>\n",
       "      <td>Kyrgyzstan</td>\n",
       "      <td>KG</td>\n",
       "      <td>Uruguay</td>\n",
       "      <td>UY</td>\n",
       "    </tr>\n",
       "  </tbody>\n",
       "</table>\n",
       "<p>94 rows × 4 columns</p>\n",
       "</div>"
      ],
      "text/plain": [
       "                                Country Two-letter Abbreviation  \\\n",
       "0                           Afghanistan                      AF   \n",
       "1                               Albania                      AL   \n",
       "2                               Algeria                      DZ   \n",
       "3                               Andorra                      AD   \n",
       "4                                Angola                      AO   \n",
       "..                                  ...                     ...   \n",
       "89                             Kiribati                      KI   \n",
       "90  Korea, Democratic People's Republic                      KP   \n",
       "91                      Korea, Republic                      KR   \n",
       "92                               Kuwait                      KW   \n",
       "93                           Kyrgyzstan                      KG   \n",
       "\n",
       "               Country.1 Two-letter Abbreviation.1  \n",
       "0                   Laos                        LA  \n",
       "1                 Latvia                        LV  \n",
       "2                Lebanon                        LB  \n",
       "3                Lesotho                        LS  \n",
       "4                Liberia                        LR  \n",
       "..                   ...                       ...  \n",
       "89               Ukraine                        UA  \n",
       "90  United Arab Emirates                        AE  \n",
       "91        United Kingdom                        GB  \n",
       "92         United States                        US  \n",
       "93               Uruguay                        UY  \n",
       "\n",
       "[94 rows x 4 columns]"
      ]
     },
     "execution_count": 2,
     "metadata": {},
     "output_type": "execute_result"
    }
   ],
   "source": [
    "df=pd.read_excel(\"C:/Users/Admin/Desktop/rajesh sir/ISO Country Data in Excel.xlsx\")\n",
    "df"
   ]
  },
  {
   "cell_type": "code",
   "execution_count": 3,
   "metadata": {},
   "outputs": [
    {
     "data": {
      "text/plain": [
       "0                             Afghanistan\n",
       "1                                 Albania\n",
       "2                                 Algeria\n",
       "3                                 Andorra\n",
       "4                                  Angola\n",
       "                     ...                 \n",
       "89                               Kiribati\n",
       "90    Korea, Democratic People's Republic\n",
       "91                        Korea, Republic\n",
       "92                                 Kuwait\n",
       "93                             Kyrgyzstan\n",
       "Name: Country, Length: 94, dtype: object"
      ]
     },
     "execution_count": 3,
     "metadata": {},
     "output_type": "execute_result"
    }
   ],
   "source": [
    "ISO=df['Country']\n",
    "ISO"
   ]
  },
  {
   "cell_type": "code",
   "execution_count": 4,
   "metadata": {},
   "outputs": [
    {
     "data": {
      "text/plain": [
       "0                     Laos\n",
       "1                   Latvia\n",
       "2                  Lebanon\n",
       "3                  Lesotho\n",
       "4                  Liberia\n",
       "              ...         \n",
       "89                 Ukraine\n",
       "90    United Arab Emirates\n",
       "91          United Kingdom\n",
       "92           United States\n",
       "93                 Uruguay\n",
       "Name: Country.1, Length: 94, dtype: object"
      ]
     },
     "execution_count": 4,
     "metadata": {},
     "output_type": "execute_result"
    }
   ],
   "source": [
    "ISO1=df['Country.1']\n",
    "ISO1"
   ]
  },
  {
   "cell_type": "code",
   "execution_count": 5,
   "metadata": {},
   "outputs": [
    {
     "data": {
      "text/plain": [
       "0              Afghanistan\n",
       "1                  Albania\n",
       "2                  Algeria\n",
       "3                  Andorra\n",
       "4                   Angola\n",
       "              ...         \n",
       "89                 Ukraine\n",
       "90    United Arab Emirates\n",
       "91          United Kingdom\n",
       "92           United States\n",
       "93                 Uruguay\n",
       "Length: 188, dtype: object"
      ]
     },
     "execution_count": 5,
     "metadata": {},
     "output_type": "execute_result"
    }
   ],
   "source": [
    "Country_name=pd.concat([ISO,ISO1])\n",
    "Country_name"
   ]
  },
  {
   "cell_type": "code",
   "execution_count": 6,
   "metadata": {},
   "outputs": [
    {
     "data": {
      "text/plain": [
       "0     AF\n",
       "1     AL\n",
       "2     DZ\n",
       "3     AD\n",
       "4     AO\n",
       "      ..\n",
       "89    KI\n",
       "90    KP\n",
       "91    KR\n",
       "92    KW\n",
       "93    KG\n",
       "Name: Two-letter Abbreviation, Length: 94, dtype: object"
      ]
     },
     "execution_count": 6,
     "metadata": {},
     "output_type": "execute_result"
    }
   ],
   "source": [
    "code=df[\"Two-letter Abbreviation\"]\n",
    "code"
   ]
  },
  {
   "cell_type": "code",
   "execution_count": 7,
   "metadata": {},
   "outputs": [
    {
     "data": {
      "text/plain": [
       "0     LA\n",
       "1     LV\n",
       "2     LB\n",
       "3     LS\n",
       "4     LR\n",
       "      ..\n",
       "89    UA\n",
       "90    AE\n",
       "91    GB\n",
       "92    US\n",
       "93    UY\n",
       "Name: Two-letter Abbreviation.1, Length: 94, dtype: object"
      ]
     },
     "execution_count": 7,
     "metadata": {},
     "output_type": "execute_result"
    }
   ],
   "source": [
    "code1=df[\"Two-letter Abbreviation.1\"]\n",
    "code1"
   ]
  },
  {
   "cell_type": "code",
   "execution_count": 8,
   "metadata": {},
   "outputs": [
    {
     "data": {
      "text/plain": [
       "0     AF\n",
       "1     AL\n",
       "2     DZ\n",
       "3     AD\n",
       "4     AO\n",
       "      ..\n",
       "89    UA\n",
       "90    AE\n",
       "91    GB\n",
       "92    US\n",
       "93    UY\n",
       "Length: 188, dtype: object"
      ]
     },
     "execution_count": 8,
     "metadata": {},
     "output_type": "execute_result"
    }
   ],
   "source": [
    "ISO_Country_code=pd.concat([code,code1])\n",
    "ISO_Country_code"
   ]
  },
  {
   "cell_type": "code",
   "execution_count": 9,
   "metadata": {},
   "outputs": [
    {
     "data": {
      "text/html": [
       "<div>\n",
       "<style scoped>\n",
       "    .dataframe tbody tr th:only-of-type {\n",
       "        vertical-align: middle;\n",
       "    }\n",
       "\n",
       "    .dataframe tbody tr th {\n",
       "        vertical-align: top;\n",
       "    }\n",
       "\n",
       "    .dataframe thead th {\n",
       "        text-align: right;\n",
       "    }\n",
       "</style>\n",
       "<table border=\"1\" class=\"dataframe\">\n",
       "  <thead>\n",
       "    <tr style=\"text-align: right;\">\n",
       "      <th></th>\n",
       "      <th>ISO_Country_code</th>\n",
       "      <th>Country_name</th>\n",
       "    </tr>\n",
       "  </thead>\n",
       "  <tbody>\n",
       "    <tr>\n",
       "      <th>0</th>\n",
       "      <td>AF</td>\n",
       "      <td>Afghanistan</td>\n",
       "    </tr>\n",
       "    <tr>\n",
       "      <th>1</th>\n",
       "      <td>AL</td>\n",
       "      <td>Albania</td>\n",
       "    </tr>\n",
       "    <tr>\n",
       "      <th>2</th>\n",
       "      <td>DZ</td>\n",
       "      <td>Algeria</td>\n",
       "    </tr>\n",
       "    <tr>\n",
       "      <th>3</th>\n",
       "      <td>AD</td>\n",
       "      <td>Andorra</td>\n",
       "    </tr>\n",
       "    <tr>\n",
       "      <th>4</th>\n",
       "      <td>AO</td>\n",
       "      <td>Angola</td>\n",
       "    </tr>\n",
       "    <tr>\n",
       "      <th>...</th>\n",
       "      <td>...</td>\n",
       "      <td>...</td>\n",
       "    </tr>\n",
       "    <tr>\n",
       "      <th>89</th>\n",
       "      <td>UA</td>\n",
       "      <td>Ukraine</td>\n",
       "    </tr>\n",
       "    <tr>\n",
       "      <th>90</th>\n",
       "      <td>AE</td>\n",
       "      <td>United Arab Emirates</td>\n",
       "    </tr>\n",
       "    <tr>\n",
       "      <th>91</th>\n",
       "      <td>GB</td>\n",
       "      <td>United Kingdom</td>\n",
       "    </tr>\n",
       "    <tr>\n",
       "      <th>92</th>\n",
       "      <td>US</td>\n",
       "      <td>United States</td>\n",
       "    </tr>\n",
       "    <tr>\n",
       "      <th>93</th>\n",
       "      <td>UY</td>\n",
       "      <td>Uruguay</td>\n",
       "    </tr>\n",
       "  </tbody>\n",
       "</table>\n",
       "<p>188 rows × 2 columns</p>\n",
       "</div>"
      ],
      "text/plain": [
       "   ISO_Country_code          Country_name\n",
       "0                AF           Afghanistan\n",
       "1                AL               Albania\n",
       "2                DZ               Algeria\n",
       "3                AD               Andorra\n",
       "4                AO                Angola\n",
       "..              ...                   ...\n",
       "89               UA               Ukraine\n",
       "90               AE  United Arab Emirates\n",
       "91               GB        United Kingdom\n",
       "92               US         United States\n",
       "93               UY               Uruguay\n",
       "\n",
       "[188 rows x 2 columns]"
      ]
     },
     "execution_count": 9,
     "metadata": {},
     "output_type": "execute_result"
    }
   ],
   "source": [
    "country={\"ISO_Country_code\":ISO_Country_code,\"Country_name\":Country_name}\n",
    "Country=pd.DataFrame(country)\n",
    "Country"
   ]
  },
  {
   "cell_type": "code",
   "execution_count": 10,
   "metadata": {
    "scrolled": true
   },
   "outputs": [
    {
     "data": {
      "text/html": [
       "<div>\n",
       "<style scoped>\n",
       "    .dataframe tbody tr th:only-of-type {\n",
       "        vertical-align: middle;\n",
       "    }\n",
       "\n",
       "    .dataframe tbody tr th {\n",
       "        vertical-align: top;\n",
       "    }\n",
       "\n",
       "    .dataframe thead th {\n",
       "        text-align: right;\n",
       "    }\n",
       "</style>\n",
       "<table border=\"1\" class=\"dataframe\">\n",
       "  <thead>\n",
       "    <tr style=\"text-align: right;\">\n",
       "      <th></th>\n",
       "      <th>ISO_Country_code</th>\n",
       "      <th>Country_name</th>\n",
       "    </tr>\n",
       "  </thead>\n",
       "  <tbody>\n",
       "    <tr>\n",
       "      <th>0</th>\n",
       "      <td>AF</td>\n",
       "      <td>Afghanistan</td>\n",
       "    </tr>\n",
       "    <tr>\n",
       "      <th>1</th>\n",
       "      <td>AL</td>\n",
       "      <td>Albania</td>\n",
       "    </tr>\n",
       "    <tr>\n",
       "      <th>2</th>\n",
       "      <td>DZ</td>\n",
       "      <td>Algeria</td>\n",
       "    </tr>\n",
       "    <tr>\n",
       "      <th>3</th>\n",
       "      <td>AD</td>\n",
       "      <td>Andorra</td>\n",
       "    </tr>\n",
       "    <tr>\n",
       "      <th>4</th>\n",
       "      <td>AO</td>\n",
       "      <td>Angola</td>\n",
       "    </tr>\n",
       "    <tr>\n",
       "      <th>...</th>\n",
       "      <td>...</td>\n",
       "      <td>...</td>\n",
       "    </tr>\n",
       "    <tr>\n",
       "      <th>183</th>\n",
       "      <td>UA</td>\n",
       "      <td>Ukraine</td>\n",
       "    </tr>\n",
       "    <tr>\n",
       "      <th>184</th>\n",
       "      <td>AE</td>\n",
       "      <td>United Arab Emirates</td>\n",
       "    </tr>\n",
       "    <tr>\n",
       "      <th>185</th>\n",
       "      <td>GB</td>\n",
       "      <td>United Kingdom</td>\n",
       "    </tr>\n",
       "    <tr>\n",
       "      <th>186</th>\n",
       "      <td>US</td>\n",
       "      <td>United States</td>\n",
       "    </tr>\n",
       "    <tr>\n",
       "      <th>187</th>\n",
       "      <td>UY</td>\n",
       "      <td>Uruguay</td>\n",
       "    </tr>\n",
       "  </tbody>\n",
       "</table>\n",
       "<p>188 rows × 2 columns</p>\n",
       "</div>"
      ],
      "text/plain": [
       "    ISO_Country_code          Country_name\n",
       "0                 AF           Afghanistan\n",
       "1                 AL               Albania\n",
       "2                 DZ               Algeria\n",
       "3                 AD               Andorra\n",
       "4                 AO                Angola\n",
       "..               ...                   ...\n",
       "183               UA               Ukraine\n",
       "184               AE  United Arab Emirates\n",
       "185               GB        United Kingdom\n",
       "186               US         United States\n",
       "187               UY               Uruguay\n",
       "\n",
       "[188 rows x 2 columns]"
      ]
     },
     "execution_count": 10,
     "metadata": {},
     "output_type": "execute_result"
    }
   ],
   "source": [
    "import pandas as pd\n",
    "import sqlite3\n",
    "\n",
    "conn = sqlite3.connect('test_database1')\n",
    "c = conn.cursor()\n",
    "\n",
    "c.execute('CREATE TABLE IF NOT EXISTS ISO (ISO_Country_code char(2) NOT NULL PRIMARY KEY, Country_name varchar(30))')\n",
    "conn.commit()\n",
    "\n",
    "country={'ISO_Country_code':ISO_Country_code,'Country_name':Country_name}\n",
    "df=pd.DataFrame(country,columns=['ISO_Country_code','Country_name'])\n",
    "df.to_sql('ISO', conn, if_exists='replace', index = False)\n",
    " \n",
    "pd.read_sql('SELECT * FROM ISO',con=conn)"
   ]
  },
  {
   "cell_type": "code",
   "execution_count": null,
   "metadata": {},
   "outputs": [],
   "source": []
  }
 ],
 "metadata": {
  "kernelspec": {
   "display_name": "Python 3",
   "language": "python",
   "name": "python3"
  },
  "language_info": {
   "codemirror_mode": {
    "name": "ipython",
    "version": 3
   },
   "file_extension": ".py",
   "mimetype": "text/x-python",
   "name": "python",
   "nbconvert_exporter": "python",
   "pygments_lexer": "ipython3",
   "version": "3.8.5"
  }
 },
 "nbformat": 4,
 "nbformat_minor": 4
}
